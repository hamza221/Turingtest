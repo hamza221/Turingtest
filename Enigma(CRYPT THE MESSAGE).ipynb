{
 "cells": [
  {
   "cell_type": "markdown",
   "metadata": {},
   "source": [
    "# GENERATE THE RANDOM STATE\n",
    "### (RUN THIS CELL TO REINITIALISE THE LETTERS//AT THE START OF EVERY DAY)"
   ]
  },
  {
   "cell_type": "code",
   "execution_count": 8,
   "metadata": {},
   "outputs": [],
   "source": [
    "import random\n",
    "import pickle\n",
    "Alphabet = {0:'A',1:'B',2:'C',3:'D',4:'E',5:'F',6:'G',7:'H',8:'I',9:'J',10:'K',11:'L',12:'M',13:'N',14:'O',15:'P',16:'Q',17:'R',18:'S',19:'T',20:'U',21:'V',22:'W',23:'X',24:'Y',25:'Z',26:' '}\n",
    "Aphabet={}\n",
    "Aphabet=dict(Aphabet)\n",
    "type(Aphabet)\n",
    "def dis (k,l):\n",
    "    if(k in l):\n",
    "        return False\n",
    "    else:\n",
    "        l.append(k)\n",
    "        return True\n",
    "l=[]\n",
    "for i in range(27):    \n",
    "    while(True):\n",
    "        x= random.randint(0, 26)\n",
    "        if(dis(x,l)):\n",
    "            Aphabet[x]=Alphabet[i]\n",
    "            break\n",
    "        else:\n",
    "            continue\n",
    "\n",
    "\n",
    "with open('Aphabet', 'wb') as fp:\n",
    "    pickle.dump(Aphabet, fp)\n",
    "with open('Alphabet', 'wb') as fp:\n",
    "    pickle.dump(Alphabet, fp)\n",
    "    \n"
   ]
  },
  {
   "cell_type": "markdown",
   "metadata": {},
   "source": [
    "## CRYPT THE MESSAGE"
   ]
  },
  {
   "cell_type": "code",
   "execution_count": 9,
   "metadata": {},
   "outputs": [
    {
     "name": "stdout",
     "output_type": "stream",
     "text": [
      "hamza\n",
      "KXBWX\n"
     ]
    }
   ],
   "source": [
    "ch=input()\n",
    "ch1=''\n",
    "for i in range(len(ch)):\n",
    "    x=ch[i].upper()\n",
    "    for j in range(27):\n",
    "        if(x==Alphabet[j]):\n",
    "            a=j\n",
    "            break\n",
    "        else:\n",
    "            continue\n",
    "            \n",
    "    ch1+=Aphabet[a]\n",
    "print(ch1)\n",
    "    "
   ]
  }
 ],
 "metadata": {
  "kernelspec": {
   "display_name": "Python 3",
   "language": "python",
   "name": "python3"
  },
  "language_info": {
   "codemirror_mode": {
    "name": "ipython",
    "version": 3
   },
   "file_extension": ".py",
   "mimetype": "text/x-python",
   "name": "python",
   "nbconvert_exporter": "python",
   "pygments_lexer": "ipython3",
   "version": "3.6.5"
  }
 },
 "nbformat": 4,
 "nbformat_minor": 2
}
