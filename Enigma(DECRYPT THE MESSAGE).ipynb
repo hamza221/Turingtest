{
 "cells": [
  {
   "cell_type": "markdown",
   "metadata": {},
   "source": [
    "# DECRYPT THE MESSAGE"
   ]
  },
  {
   "cell_type": "code",
   "execution_count": 1,
   "metadata": {},
   "outputs": [
    {
     "name": "stdout",
     "output_type": "stream",
     "text": [
      "KXBWX\n",
      "HAMZA\n"
     ]
    }
   ],
   "source": [
    "import pickle\n",
    "ch1=input()\n",
    "with open ('Aphabet', 'rb') as fp:\n",
    "    Aphabet= pickle.load(fp)\n",
    "with open ('Alphabet', 'rb') as fp:\n",
    "    Alphabet= pickle.load(fp)\n",
    "ch2=''\n",
    "for i in range(len(ch1)):\n",
    "    x=ch1[i]\n",
    "    for j in range(len(Aphabet)):\n",
    "        if(x==Aphabet[j]):\n",
    "            a=j\n",
    "            break\n",
    "        else:\n",
    "            continue\n",
    "    ch2+=Alphabet[a]\n",
    "print(ch2)"
   ]
  }
 ],
 "metadata": {
  "kernelspec": {
   "display_name": "Python 3",
   "language": "python",
   "name": "python3"
  },
  "language_info": {
   "codemirror_mode": {
    "name": "ipython",
    "version": 3
   },
   "file_extension": ".py",
   "mimetype": "text/x-python",
   "name": "python",
   "nbconvert_exporter": "python",
   "pygments_lexer": "ipython3",
   "version": "3.6.5"
  }
 },
 "nbformat": 4,
 "nbformat_minor": 2
}
